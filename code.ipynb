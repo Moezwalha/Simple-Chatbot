{
 "cells": [
  {
   "cell_type": "code",
   "execution_count": 19,
   "metadata": {
    "id": "qSe-a_0oaytN"
   },
   "outputs": [
    {
     "data": {
      "text/plain": [
       "2"
      ]
     },
     "execution_count": 19,
     "metadata": {},
     "output_type": "execute_result"
    }
   ],
   "source": [
    "# import required libraries\n",
    "import nltk\n",
    "import numpy as np\n",
    "import random\n",
    "import string\n",
    "import bs4 as bs\n",
    "import urllib.request\n",
    "import re\n",
    "import os\n",
    "\n",
    "os.system('python ./requirement.py')"
   ]
  },
  {
   "cell_type": "code",
   "execution_count": 20,
   "metadata": {
    "id": "qD9bJNaYazvm"
   },
   "outputs": [],
   "source": [
    "# extract text data from the chosen url\n",
    "raw_html = urllib.request.urlopen('https://en.wikipedia.org/wiki/National_Engineering_School_of_Sfax')\n",
    "raw_html = raw_html.read()\n",
    "\n",
    "article_html = bs.BeautifulSoup(raw_html, 'lxml')\n",
    "\n",
    "article_paragraphs = article_html.find_all('p')"
   ]
  },
  {
   "cell_type": "code",
   "execution_count": 21,
   "metadata": {
    "colab": {
     "base_uri": "https://localhost:8080/",
     "height": 70
    },
    "id": "dymNe2JWbJHf",
    "outputId": "ca8c24b2-3427-4fd0-865b-4828e2da5d58"
   },
   "outputs": [
    {
     "data": {
      "text/plain": [
       "'The National Engineering School of Sfax (Arabic: المدرسة الوطنية للمهندسين بصفاقس) or ENIS, is a Tunisian engineering school and research establishment based in the city of Sfax located in the east of the country. It is a part of the University of Sfax.[1]\\nThe National Engineering School of Sfax was founded in 1983.[1]\\nThe National Engineering School of Sfax has seven independent departments:[1]\\n\\n\\nThis article on a Tunisian institution of higher education is a stub. You can help Wikipedia by expanding it.'"
      ]
     },
     "execution_count": 21,
     "metadata": {},
     "output_type": "execute_result"
    }
   ],
   "source": [
    "article_text = ''\n",
    "\n",
    "for para in article_paragraphs:\n",
    "    article_text += para.text\n",
    "\n",
    "article_text"
   ]
  },
  {
   "cell_type": "code",
   "execution_count": 22,
   "metadata": {
    "id": "A035r3FRbSoH"
   },
   "outputs": [
    {
     "data": {
      "text/plain": [
       "['The National Engineering School of Sfax (Arabic: المدرسة الوطنية للمهندسين بصفاقس) or ENIS, is a Tunisian engineering school and research establishment based in the city of Sfax located in the east of the country.',\n",
       " 'It is a part of the University of Sfax.',\n",
       " 'The National Engineering School of Sfax was founded in 1983.',\n",
       " 'The National Engineering School of Sfax has seven independent departments: This article on a Tunisian institution of higher education is a stub.',\n",
       " 'You can help Wikipedia by expanding it.']"
      ]
     },
     "execution_count": 22,
     "metadata": {},
     "output_type": "execute_result"
    }
   ],
   "source": [
    "# remove all single digits \n",
    "article_text = re.sub(r'\\[[0-9]*\\]', ' ', article_text)\n",
    "# Substituting multiple spaces with single space\n",
    "article_text = re.sub(r'\\s+', ' ', article_text)\n",
    "# The sent_tokenize function in Python can tokenize inserted text into sentences\n",
    "article_sentences = nltk.sent_tokenize(article_text)\n",
    "article_sentences"
   ]
  },
  {
   "cell_type": "code",
   "execution_count": 23,
   "metadata": {
    "id": "5Rxz_oF1c9J4"
   },
   "outputs": [],
   "source": [
    "# Lemmatization is the process of grouping together the different inflected forms of a word so they can be analyzed as a \n",
    "# single item.  \n",
    "wnlemmatizer = nltk.stem.WordNetLemmatizer()\n",
    "def perform_lemmatization(tokens):\n",
    "    return [wnlemmatizer.lemmatize(token) for token in tokens]\n",
    "\n",
    "# lower document caracters and remove punctuation\n",
    "punctuation_removal = dict((ord(punctuation), None) for punctuation in string.punctuation)\n",
    "def get_processed_text(document):\n",
    "    return perform_lemmatization(nltk.word_tokenize(document.lower().translate(punctuation_removal)))"
   ]
  },
  {
   "cell_type": "code",
   "execution_count": 24,
   "metadata": {
    "id": "EzQYnMiNc9Mq"
   },
   "outputs": [],
   "source": [
    "from sklearn.feature_extraction.text import TfidfVectorizer\n",
    "from sklearn.metrics.pairwise import cosine_similarity\n",
    "\n",
    "def generate_response(user_input):\n",
    "    Enis_bot_response = ''\n",
    "    article_sentences.append(user_input)\n",
    "    # process the article sentences with the user input\n",
    "    word_vectorizer = TfidfVectorizer(tokenizer=get_processed_text, stop_words='english')\n",
    "    all_word_vectors = word_vectorizer.fit_transform(article_sentences)\n",
    "\n",
    "    similar_vector_values = cosine_similarity(all_word_vectors[-1], all_word_vectors)\n",
    "    similar_sentence_number = similar_vector_values.argsort()[0][-2]\n",
    "    matched_vector = similar_vector_values.flatten()\n",
    "    matched_vector.sort()\n",
    "    vector_matched = matched_vector[-2]\n",
    "\n",
    "    if vector_matched == 0:\n",
    "        Enis_bot_response = Enis_bot_response + \"I am sorry, I could not understand you\"\n",
    "        return Enis_bot_response\n",
    "    else:\n",
    "        Enis_bot_response = Enis_bot_response + article_sentences[similar_sentence_number]\n",
    "        return Enis_bot_response"
   ]
  },
  {
   "cell_type": "code",
   "execution_count": 25,
   "metadata": {
    "id": "GCdM9yPJc9O2"
   },
   "outputs": [],
   "source": [
    "greeting_inputs = (\"hey\", \"good morning\", \"good evening\", \"morning\", \"evening\", \"hi\", \"whatsup\")\n",
    "greeting_responses = [\"hey\", \"hey hows you?\", \"*nods*\", \"hello, how you doing\", \"hello\", \"Welcome, I am good and you\"]\n",
    "\n",
    "def generate_greeting_response(greeting):\n",
    "    for token in greeting.split():\n",
    "        if token.lower() in greeting_inputs:\n",
    "            return random.choice(greeting_responses)"
   ]
  },
  {
   "cell_type": "code",
   "execution_count": 27,
   "metadata": {
    "colab": {
     "base_uri": "https://localhost:8080/"
    },
    "id": "6Pr91pPjbzsV",
    "outputId": "3ae777ed-f078-4d05-ac5c-7a077a98a74e"
   },
   "outputs": [
    {
     "name": "stdout",
     "output_type": "stream",
     "text": [
      "****** Hello, I am your friend Enis_bot. You can ask me any question regarding ENIS: ******\n",
      "your input: Hi\n",
      "Enis_bot: Welcome, I am good and you\n",
      "your input: What is enis?\n",
      "Enis_bot: The National Engineering School of Sfax (Arabic: المدرسة الوطنية للمهندسين بصفاقس) or ENIS, is a Tunisian engineering school and research establishment based in the city of Sfax located in the east of the country.\n",
      "your input: How many departments does it contain?\n",
      "Enis_bot: The National Engineering School of Sfax has seven independent departments: This article on a Tunisian institution of higher education is a stub.\n",
      "your input: Thank you\n",
      "Enis_bot: Most welcome\n"
     ]
    }
   ],
   "source": [
    "continue_dialogue = True\n",
    "print(\"****** Hello, I am your friend Enis_bot. You can ask me any question regarding ENIS: ******\")\n",
    "while(continue_dialogue == True):\n",
    "    human_text = input(\"your input: \")\n",
    "    human_text = human_text.lower()\n",
    "    if human_text != 'bye':\n",
    "        if human_text == 'thanks' or human_text == 'thank you very much' or human_text == 'thank you':\n",
    "            continue_dialogue = False\n",
    "            print(\"Enis_bot: Most welcome\")\n",
    "        else:\n",
    "            if generate_greeting_response(human_text) != None:\n",
    "                print(\"Enis_bot: \" + generate_greeting_response(human_text))\n",
    "            else:\n",
    "                print(\"Enis_bot: \", end=\"\")\n",
    "                print(generate_response(human_text))\n",
    "                article_sentences.remove(human_text)\n",
    "    else:\n",
    "        continue_dialogue = False\n",
    "        print(\"Enis_bot: Good bye and take care of yourself...\")"
   ]
  },
  {
   "cell_type": "code",
   "execution_count": null,
   "metadata": {},
   "outputs": [],
   "source": []
  }
 ],
 "metadata": {
  "colab": {
   "provenance": []
  },
  "kernelspec": {
   "display_name": "Python 3 (ipykernel)",
   "language": "python",
   "name": "python3"
  },
  "language_info": {
   "codemirror_mode": {
    "name": "ipython",
    "version": 3
   },
   "file_extension": ".py",
   "mimetype": "text/x-python",
   "name": "python",
   "nbconvert_exporter": "python",
   "pygments_lexer": "ipython3",
   "version": "3.9.7"
  }
 },
 "nbformat": 4,
 "nbformat_minor": 1
}
